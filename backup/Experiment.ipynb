{
 "cells": [
  {
   "cell_type": "code",
   "execution_count": 12,
   "metadata": {},
   "outputs": [],
   "source": [
    "tier_1 = ['Ahmedabad', 'Bengaluru', 'Chennai', 'Delhi', 'Hyderabad', 'Kolkata', 'Mumbai', 'Pune']\n",
    "cuisines = ['chinese', 'italian', 'biryani', 'north indian',\n",
    "                             'south indian', 'american', 'mexican']\n",
    "tier_2 = ['Agra','Ajmer', 'Aligarh','Amravati','Amritsar','Asansol','Aurangabad','Bareilly','Belgaum',\n",
    "                  'Bhavnagar','Bhiwandi','Bhopal','Bhubaneswar','Bikaner',\n",
    "                  'Bilaspur','Bokaro Steel City','Chandigarh','Coimbatore','Cuttack','Dehradun',\n",
    "                  'Dhanbad','Bhilai','Durgapur','Dindigul','Erode','Faridabad','Firozabad',\n",
    "                  'Ghaziabad','Gorakhpur','Gulbarga','Guntur','Gwalior','Gurgaon',\n",
    "                  'Guwahati','Hamirpur','Hubli–Dharwad','Indore','Jabalpur','Jaipur',\n",
    "                  'Jalandhar','Jammu','Jamnagar','Jamshedpur','Jhansi','Jodhpur',\n",
    "                  'Kakinada','Kannur','Kanpur','Karnal','Kochi','Kolhapur',\n",
    "                  'Kollam','Kozhikode','Kurnool','Ludhiana','Lucknow','Madurai','Malappuram',\n",
    "                  'Mathura','Mangalore','Meerut','Moradabad','Mysore','Nagpur','Nanded',\n",
    "                  'Nashik','Nellore','Noida','Patna','Pondicherry','Purulia','Prayagraj',\n",
    "                  'Raipur','Rajkot','Rajahmundry','Ranchi','Rourkela','Salem','Sangli',\n",
    "                  'Shimla','Siliguri','Solapur','Srinagar','Surat','Thanjavur',\n",
    "                  'Thiruvananthapuram','Thrissur','Tiruchirappalli','Tirunelveli','Ujjain',\n",
    "                  'Bijapur','Vadodara','Varanasi','Vasai-Virar City','Vijayawada',\n",
    "                  'Visakhapatnam','Vellore','Warangal']"
   ]
  },
  {
   "cell_type": "code",
   "execution_count": 17,
   "metadata": {},
   "outputs": [
    {
     "name": "stdout",
     "output_type": "stream",
     "text": [
      "- find me a [chinese](cuisine) restaurant in [Ahmedabad](location)\n",
      "- find me a [italian](cuisine) restaurant in [Ahmedabad](location)\n",
      "- find me a [biryani](cuisine) restaurant in [Ahmedabad](location)\n",
      "- find me a [north indian](cuisine) restaurant in [Ahmedabad](location)\n",
      "- find me a [south indian](cuisine) restaurant in [Ahmedabad](location)\n",
      "- find me a [american](cuisine) restaurant in [Ahmedabad](location)\n",
      "- find me a [mexican](cuisine) restaurant in [Ahmedabad](location)\n",
      "- find me a [chinese](cuisine) restaurant in [Bengaluru](location)\n",
      "- find me a [italian](cuisine) restaurant in [Bengaluru](location)\n",
      "- find me a [biryani](cuisine) restaurant in [Bengaluru](location)\n",
      "- find me a [north indian](cuisine) restaurant in [Bengaluru](location)\n",
      "- find me a [south indian](cuisine) restaurant in [Bengaluru](location)\n",
      "- find me a [american](cuisine) restaurant in [Bengaluru](location)\n",
      "- find me a [mexican](cuisine) restaurant in [Bengaluru](location)\n",
      "- find me a [chinese](cuisine) restaurant in [Chennai](location)\n",
      "- find me a [italian](cuisine) restaurant in [Chennai](location)\n",
      "- find me a [biryani](cuisine) restaurant in [Chennai](location)\n",
      "- find me a [north indian](cuisine) restaurant in [Chennai](location)\n",
      "- find me a [south indian](cuisine) restaurant in [Chennai](location)\n",
      "- find me a [american](cuisine) restaurant in [Chennai](location)\n",
      "- find me a [mexican](cuisine) restaurant in [Chennai](location)\n",
      "- find me a [chinese](cuisine) restaurant in [Delhi](location)\n",
      "- find me a [italian](cuisine) restaurant in [Delhi](location)\n",
      "- find me a [biryani](cuisine) restaurant in [Delhi](location)\n",
      "- find me a [north indian](cuisine) restaurant in [Delhi](location)\n",
      "- find me a [south indian](cuisine) restaurant in [Delhi](location)\n",
      "- find me a [american](cuisine) restaurant in [Delhi](location)\n",
      "- find me a [mexican](cuisine) restaurant in [Delhi](location)\n",
      "- find me a [chinese](cuisine) restaurant in [Hyderabad](location)\n",
      "- find me a [italian](cuisine) restaurant in [Hyderabad](location)\n",
      "- find me a [biryani](cuisine) restaurant in [Hyderabad](location)\n",
      "- find me a [north indian](cuisine) restaurant in [Hyderabad](location)\n",
      "- find me a [south indian](cuisine) restaurant in [Hyderabad](location)\n",
      "- find me a [american](cuisine) restaurant in [Hyderabad](location)\n",
      "- find me a [mexican](cuisine) restaurant in [Hyderabad](location)\n",
      "- find me a [chinese](cuisine) restaurant in [Kolkata](location)\n",
      "- find me a [italian](cuisine) restaurant in [Kolkata](location)\n",
      "- find me a [biryani](cuisine) restaurant in [Kolkata](location)\n",
      "- find me a [north indian](cuisine) restaurant in [Kolkata](location)\n",
      "- find me a [south indian](cuisine) restaurant in [Kolkata](location)\n",
      "- find me a [american](cuisine) restaurant in [Kolkata](location)\n",
      "- find me a [mexican](cuisine) restaurant in [Kolkata](location)\n",
      "- find me a [chinese](cuisine) restaurant in [Mumbai](location)\n",
      "- find me a [italian](cuisine) restaurant in [Mumbai](location)\n",
      "- find me a [biryani](cuisine) restaurant in [Mumbai](location)\n",
      "- find me a [north indian](cuisine) restaurant in [Mumbai](location)\n",
      "- find me a [south indian](cuisine) restaurant in [Mumbai](location)\n",
      "- find me a [american](cuisine) restaurant in [Mumbai](location)\n",
      "- find me a [mexican](cuisine) restaurant in [Mumbai](location)\n",
      "- find me a [chinese](cuisine) restaurant in [Pune](location)\n",
      "- find me a [italian](cuisine) restaurant in [Pune](location)\n",
      "- find me a [biryani](cuisine) restaurant in [Pune](location)\n",
      "- find me a [north indian](cuisine) restaurant in [Pune](location)\n",
      "- find me a [south indian](cuisine) restaurant in [Pune](location)\n",
      "- find me a [american](cuisine) restaurant in [Pune](location)\n",
      "- find me a [mexican](cuisine) restaurant in [Pune](location)\n"
     ]
    }
   ],
   "source": [
    "for city in tier_1:\n",
    "    for cuisine in cuisines:\n",
    "        text = \"- find me a \" + \"[\" + cuisine + \"]\" + \"(cuisine) restaurant in \" + \"[\" + city + \"]\" + \"(location)\"\n",
    "        print(text)"
   ]
  },
  {
   "cell_type": "code",
   "execution_count": null,
   "metadata": {},
   "outputs": [],
   "source": []
  }
 ],
 "metadata": {
  "kernelspec": {
   "display_name": "Python 3",
   "language": "python",
   "name": "python3"
  },
  "language_info": {
   "codemirror_mode": {
    "name": "ipython",
    "version": 3
   },
   "file_extension": ".py",
   "mimetype": "text/x-python",
   "name": "python",
   "nbconvert_exporter": "python",
   "pygments_lexer": "ipython3",
   "version": "3.7.3"
  }
 },
 "nbformat": 4,
 "nbformat_minor": 2
}
